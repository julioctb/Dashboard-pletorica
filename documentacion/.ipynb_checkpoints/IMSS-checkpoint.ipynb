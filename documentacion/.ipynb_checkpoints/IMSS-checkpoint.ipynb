{
 "cells": [
  {
   "cell_type": "code",
   "execution_count": 15,
   "id": "b98cf8c7-d722-49bc-9b2f-273c48cad8c8",
   "metadata": {},
   "outputs": [
    {
     "data": {
      "text/plain": [
       "Decimal('2714.25')"
      ]
     },
     "execution_count": 15,
     "metadata": {},
     "output_type": "execute_result"
    }
   ],
   "source": [
    "from app.core.calculations.imss import CalculadoraIMSS\n",
    "from decimal import Decimal\n",
    "\n",
    "\n",
    "imss = CalculadoraIMSS()\n",
    "imss.TOPE_SDI"
   ]
  },
  {
   "cell_type": "code",
   "execution_count": 17,
   "id": "1abf7bad-aad1-4c1c-a9ca-f95def66c4b2",
   "metadata": {},
   "outputs": [
    {
     "data": {
      "text/plain": [
       "90.0"
      ]
     },
     "execution_count": 17,
     "metadata": {},
     "output_type": "execute_result"
    }
   ],
   "source": [
    "patron = imss.calcular_cuotas(\n",
    "    salario_diario_integrado= 300\n",
    ")\n",
    "\n",
    "float(patron['patron']['retiro'])"
   ]
  }
 ],
 "metadata": {
  "kernelspec": {
   "display_name": "Python 3 (ipykernel)",
   "language": "python",
   "name": "python3"
  },
  "language_info": {
   "codemirror_mode": {
    "name": "ipython",
    "version": 3
   },
   "file_extension": ".py",
   "mimetype": "text/x-python",
   "name": "python",
   "nbconvert_exporter": "python",
   "pygments_lexer": "ipython3",
   "version": "3.12.7"
  }
 },
 "nbformat": 4,
 "nbformat_minor": 5
}
