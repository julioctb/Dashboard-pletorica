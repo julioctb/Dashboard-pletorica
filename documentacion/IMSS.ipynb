{
 "cells": [
  {
   "cell_type": "code",
   "execution_count": 12,
   "id": "e33caf63-1689-481d-ba39-3b2b153f059d",
   "metadata": {},
   "outputs": [],
   "source": [
    "import os, sys\n",
    "\n",
    "#codigo para poder importar el modulo de una carpeta en nivel superior\n",
    "sys.path.append(os.path.abspath(os.path.join(os.getcwd(), \"..\")))\n"
   ]
  },
  {
   "cell_type": "code",
   "execution_count": 13,
   "id": "b98cf8c7-d722-49bc-9b2f-273c48cad8c8",
   "metadata": {},
   "outputs": [
    {
     "name": "stdout",
     "output_type": "stream",
     "text": [
      "292.55\n"
     ]
    }
   ],
   "source": [
    "from app.core.calculations.imss import CalculadoraIMSS\n",
    "from decimal import Decimal\n",
    "\n",
    "\n",
    "empresa = CalculadoraIMSS()\n",
    "#Calcular SDI\n",
    "\n",
    "sdi = empresa.calcular_sdi(salario_diario=Decimal(278.8), aguinaldo_dias = 15)\n",
    "\n",
    "print(sdi)"
   ]
  },
  {
   "cell_type": "code",
   "execution_count": 14,
   "id": "1abf7bad-aad1-4c1c-a9ca-f95def66c4b2",
   "metadata": {},
   "outputs": [
    {
     "data": {
      "text/plain": [
       "{'enf_mat_especie': Decimal('0.00'),\n",
       " 'enf_mat_dinero': Decimal('21.94'),\n",
       " 'gastos_medicos': Decimal('32.91'),\n",
       " 'invalidez_vida': Decimal('54.85'),\n",
       " 'retiro': Decimal('0.00'),\n",
       " 'cesantia_vejez': Decimal('98.74'),\n",
       " 'guarderia': Decimal('0.00'),\n",
       " 'riesgo_trabajo': Decimal('0.00')}"
      ]
     },
     "execution_count": 14,
     "metadata": {},
     "output_type": "execute_result"
    }
   ],
   "source": [
    "#calcular cuotas\n",
    "\n",
    "cuota= empresa.calcular_cuotas(salario_diario_integrado=sdi,dias_cotizados=30)\n",
    "cuota['trabajador']"
   ]
  }
 ],
 "metadata": {
  "kernelspec": {
   "display_name": "venv",
   "language": "python",
   "name": "python3"
  },
  "language_info": {
   "codemirror_mode": {
    "name": "ipython",
    "version": 3
   },
   "file_extension": ".py",
   "mimetype": "text/x-python",
   "name": "python",
   "nbconvert_exporter": "python",
   "pygments_lexer": "ipython3",
   "version": "3.12.7"
  }
 },
 "nbformat": 4,
 "nbformat_minor": 5
}
